{
 "cells": [
  {
   "cell_type": "code",
   "execution_count": 1,
   "id": "6590a48a",
   "metadata": {},
   "outputs": [],
   "source": [
    "import numpy as np\n",
    "import matplotlib.pyplot as plt"
   ]
  },
  {
   "cell_type": "code",
   "execution_count": 3,
   "id": "48014f2d",
   "metadata": {},
   "outputs": [
    {
     "name": "stdout",
     "output_type": "stream",
     "text": [
      "Writing iteration_code.py\n"
     ]
    }
   ],
   "source": [
    " %%writefile iteration_code.py\n",
    "def iterate(c, z0, max_iter=20):\n",
    "    \"\"\"iterates z equation below\n",
    "    \n",
    "    c - equation for complex plane, c= x + iy\n",
    "    z0 - initial z\n",
    "    max_iter - maximum iteration\n",
    "    \"\"\"\n",
    "    it=0\n",
    "    z=z0\n",
    "    escape_iter=np.zeros([c.shape[0],c.shape[1]])\n",
    "\n",
    "    for it in range(max_iter):\n",
    "        it+=1\n",
    "        z= z*z + c\n",
    "        r = np.abs(z)\n",
    "        for i in range(c.shape[0]):\n",
    "            for j in range(c.shape[1]): \n",
    "                if (escape_iter[i,j] == 0) & (r[i,j] > 10):\n",
    "                    escape_iter[i,j]=it\n",
    "    return escape_iter\n",
    "                "
   ]
  },
  {
   "cell_type": "code",
   "execution_count": null,
   "id": "612d44ed",
   "metadata": {},
   "outputs": [],
   "source": []
  }
 ],
 "metadata": {
  "kernelspec": {
   "display_name": "Python 3 (ipykernel)",
   "language": "python",
   "name": "python3"
  },
  "language_info": {
   "codemirror_mode": {
    "name": "ipython",
    "version": 3
   },
   "file_extension": ".py",
   "mimetype": "text/x-python",
   "name": "python",
   "nbconvert_exporter": "python",
   "pygments_lexer": "ipython3",
   "version": "3.10.2"
  }
 },
 "nbformat": 4,
 "nbformat_minor": 5
}
