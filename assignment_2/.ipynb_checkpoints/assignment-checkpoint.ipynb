{
 "cells": [
  {
   "cell_type": "code",
   "execution_count": 12,
   "id": "6661cb6a",
   "metadata": {},
   "outputs": [],
   "source": [
    "%matplotlib inline\n",
    "\n",
    "import matplotlib.pyplot as plt\n",
    "from sympy import *\n",
    "import numpy as np"
   ]
  },
  {
   "cell_type": "code",
   "execution_count": 13,
   "id": "11c5da76",
   "metadata": {},
   "outputs": [],
   "source": [
    "x=np.array([1,2,3,4])"
   ]
  },
  {
   "cell_type": "code",
   "execution_count": 14,
   "id": "8e7d0254",
   "metadata": {},
   "outputs": [
    {
     "name": "stdout",
     "output_type": "stream",
     "text": [
      "<function <lambda> at 0x7f4fe793c3a0>\n"
     ]
    }
   ],
   "source": [
    "f=lambda x: x**3 - x**2 - 1\n",
    "print(f)"
   ]
  },
  {
   "cell_type": "code",
   "execution_count": 15,
   "id": "aba577e5",
   "metadata": {},
   "outputs": [
    {
     "name": "stdout",
     "output_type": "stream",
     "text": [
      "<function <lambda> at 0x7f4fe793c040>\n"
     ]
    }
   ],
   "source": [
    "df=lambda x: 3*x**2 - 2*x\n",
    "print(df)"
   ]
  },
  {
   "cell_type": "code",
   "execution_count": 16,
   "id": "b98ecc5a",
   "metadata": {},
   "outputs": [],
   "source": [
    "def newton(f, df, x0, epsilon= 1e-6, max_iter=30):\n",
    "    i=0\n",
    "    xi=x0\n",
    "    while i < max_iter:\n",
    "        i+=1\n",
    "        xi+=-(f(xi)/df(xi))\n",
    "        if np.abs(f(xi)) < epsilon:\n",
    "            print(\"Found root in\", i, \"iterations\")\n",
    "            return xi\n",
    "    print(\"Iteration failed\")\n",
    "    return 'None'"
   ]
  },
  {
   "cell_type": "code",
   "execution_count": 17,
   "id": "11d3f017",
   "metadata": {},
   "outputs": [
    {
     "name": "stdout",
     "output_type": "stream",
     "text": [
      "Found root in 5 iterations\n",
      "1.4655713749070918\n"
     ]
    }
   ],
   "source": [
    "n1=newton(f,df,x0=1)\n",
    "print(n1)"
   ]
  },
  {
   "cell_type": "code",
   "execution_count": 18,
   "id": "aaf712b6",
   "metadata": {},
   "outputs": [
    {
     "name": "stdout",
     "output_type": "stream",
     "text": [
      "Found root in 11 iterations\n",
      "1.4655713154475905\n"
     ]
    }
   ],
   "source": [
    "n2=newton(f,df,x0=0.1)\n",
    "print(n2)"
   ]
  },
  {
   "cell_type": "code",
   "execution_count": 19,
   "id": "952bd700",
   "metadata": {},
   "outputs": [],
   "source": [
    "def newton1(f, df, x0, epsilon= 1e-8, max_iter=30):\n",
    "    i=0\n",
    "    xi=x0\n",
    "    while i < max_iter:\n",
    "        i+=1\n",
    "        xi+=-(f(xi)/df(xi))\n",
    "        if np.abs(f(xi)) < epsilon:\n",
    "            print(\"Found root in\", i, \"iterations\")\n",
    "            return xi\n",
    "    print(\"Iteration failed\")\n",
    "    return 'None'"
   ]
  },
  {
   "cell_type": "code",
   "execution_count": 20,
   "id": "1baa3f90",
   "metadata": {},
   "outputs": [
    {
     "name": "stdout",
     "output_type": "stream",
     "text": [
      "Found root in 6 iterations\n",
      "1.4655712318767877\n"
     ]
    }
   ],
   "source": [
    "n3=newton1(f,df,x0=1)\n",
    "print(n3)\n",
    "#yes the function still works, \n",
    "#in this case it took 1 more iteration (6 compared to 5) to converge "
   ]
  },
  {
   "cell_type": "code",
   "execution_count": null,
   "id": "3eb32e69",
   "metadata": {},
   "outputs": [],
   "source": []
  },
  {
   "cell_type": "code",
   "execution_count": 21,
   "id": "9729c7bf",
   "metadata": {},
   "outputs": [
    {
     "data": {
      "text/plain": [
       "[<matplotlib.lines.Line2D at 0x7f4f68989030>]"
      ]
     },
     "execution_count": 21,
     "metadata": {},
     "output_type": "execute_result"
    },
    {
     "data": {
      "image/png": "[encoded data removed]",
      "text/plain": [
       "<Figure size 432x288 with 1 Axes>"
      ]
     },
     "metadata": {
      "needs_background": "light"
     },
     "output_type": "display_data"
    }
   ],
   "source": [
    "#ignore just testing f\n",
    "plt.plot(x,f(x))"
   ]
  },
  {
   "cell_type": "code",
   "execution_count": null,
   "id": "cd59d1bf",
   "metadata": {},
   "outputs": [],
   "source": []
  }
 ],
 "metadata": {
  "kernelspec": {
   "display_name": "Python 3 (ipykernel)",
   "language": "python",
   "name": "python3"
  },
  "language_info": {
   "codemirror_mode": {
    "name": "ipython",
    "version": 3
   },
   "file_extension": ".py",
   "mimetype": "text/x-python",
   "name": "python",
   "nbconvert_exporter": "python",
   "pygments_lexer": "ipython3",
   "version": "3.10.2"
  }
 },
 "nbformat": 4,
 "nbformat_minor": 5
}
